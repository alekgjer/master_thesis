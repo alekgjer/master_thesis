{
 "cells": [
  {
   "cell_type": "markdown",
   "metadata": {},
   "source": [
    "# Speed distribution"
   ]
  },
  {
   "cell_type": "markdown",
   "metadata": {},
   "source": [
    "## Import libraries, data and plot details"
   ]
  },
  {
   "cell_type": "code",
   "execution_count": 1,
   "metadata": {},
   "outputs": [],
   "source": [
    "import numpy as np\n",
    "import matplotlib.pyplot as plt\n",
    "import matplotlib.collections\n",
    "from matplotlib import rc\n",
    "import os\n",
    "import sys\n",
    "sys.path.append(\"../\")\n",
    "\n",
    "from scipy import stats\n",
    "from scipy.optimize import curve_fit\n",
    "from scipy.linalg import norm\n",
    "\n",
    "from config import results_folder, plots_folder, init_folder"
   ]
  },
  {
   "cell_type": "code",
   "execution_count": 2,
   "metadata": {},
   "outputs": [],
   "source": [
    "plt.style.use('bmh')\n",
    "%matplotlib inline\n",
    "plt.rcParams['figure.autolayout'] = False\n",
    "plt.rcParams['figure.figsize'] = 10, 4\n",
    "plt.rcParams['axes.labelsize'] = 14\n",
    "plt.rcParams['axes.titlesize'] = 16\n",
    "plt.rcParams['font.size'] = 12\n",
    "plt.rcParams['lines.linewidth'] = 2.0\n",
    "plt.rcParams['lines.markersize'] = 8\n",
    "plt.rcParams['legend.fontsize'] = 14\n",
    "\n",
    "matplotlib.rc('font', **{'family': 'serif', 'serif': ['Computer Modern']})\n",
    "matplotlib.rc('text', usetex=True)\n",
    "matplotlib.rcParams['text.latex.preamble']=[r\"\\usepackage{amsmath} \\usepackage{bm}\"]"
   ]
  },
  {
   "cell_type": "markdown",
   "metadata": {},
   "source": [
    "## Utility functions"
   ]
  },
  {
   "cell_type": "code",
   "execution_count": 3,
   "metadata": {},
   "outputs": [],
   "source": [
    "def boltzmann_distribution_2D(v, kT, m):\n",
    "    return (m/kT)*v*np.exp(-m*v**2/(2*kT))\n",
    "\n",
    "def boltzmann_distribution_3D(v, kT, m):\n",
    "    return (m/(2*kT*np.pi))**(3/2)*4*np.pi*v**2*np.exp(-m*v**2/(2*kT))\n",
    "\n",
    "def average_histogram(eq_speeds, number_of_runs, number_of_bins, m):\n",
    "    hist_matrix = np.zeros((number_of_runs, number_of_bins))\n",
    "    for i in range(number_of_runs):\n",
    "        hist_matrix[i, :], bin_edges = np.histogram(eq_speeds[i, :], bins=number_of_bins, range=(0, 4), density=True)\n",
    "    hist_matrix = np.average(hist_matrix, axis=0)\n",
    "    return hist_matrix, bin_edges\n",
    "\n",
    "def compute_kT_3d(eq_speeds, m):\n",
    "    kT = np.mean(eq_speeds**2)*m/3\n",
    "    return kT\n",
    "\n",
    "def compute_kT_2d(eq_speeds, m):\n",
    "    kT = np.mean(eq_speeds**2)*m/2\n",
    "    return kT\n",
    "\n",
    "def v_avg_2d(kT_2d):\n",
    "    return np.sqrt(kT_2d*np.pi/2)\n",
    "\n",
    "def v_square_avg_2d(kT_2d):\n",
    "    return 2*kT_2d\n",
    "\n",
    "def sigma_2d(kT_2d):\n",
    "    return np.sqrt(kT_2d*(4-np.pi)/2)\n",
    "\n",
    "def v_avg_3d(kT_3d):\n",
    "    return np.sqrt(kT_3d*8/np.pi)\n",
    "\n",
    "def v_square_avg_3d(kT_3d):\n",
    "    return 3*kT_3d\n",
    "\n",
    "def sigma_3d(kT_3d):\n",
    "    return np.sqrt(kT_3d*(3*np.pi-8)/np.pi)\n",
    "\n",
    "def rel_error(theoretical_value, computed_value):\n",
    "    return np.abs((theoretical_value-computed_value)/(theoretical_value))"
   ]
  },
  {
   "cell_type": "markdown",
   "metadata": {},
   "source": [
    "## 2D"
   ]
  },
  {
   "cell_type": "code",
   "execution_count": 4,
   "metadata": {},
   "outputs": [],
   "source": [
    "N = 2000\n",
    "r = 0.005\n",
    "number_of_runs = 20\n",
    "number_of_bins = 140\n",
    "stopping_criterion = 0.2*N"
   ]
  },
  {
   "cell_type": "code",
   "execution_count": 5,
   "metadata": {},
   "outputs": [
    {
     "name": "stderr",
     "output_type": "stream",
     "text": [
      "findfont: Font family ['serif'] not found. Falling back to DejaVu Sans.\n"
     ]
    },
    {
     "data": {
      "image/png": "[encoded data removed]",
      "text/plain": [
       "<Figure size 720x288 with 1 Axes>"
      ]
     },
     "metadata": {
      "needs_background": "light"
     },
     "output_type": "display_data"
    }
   ],
   "source": [
    "eq_speeds = np.zeros((number_of_runs, N))\n",
    "for i in range(number_of_runs):\n",
    "    energy_matrix = np.load(file=os.path.join(results_folder, f'speed_distribution_2d/eq_state_speed_distribution_2d_N_{N}_{i}.npy'))\n",
    "    eq_speeds[i, :] = energy_matrix[:, 1]\n",
    "\n",
    "kT_2d = compute_kT_2d(eq_speeds, 1)\n",
    "\n",
    "v = np.linspace(0, 4, 1000)\n",
    "\n",
    "# average over multiple runs to achieve smoother distributions\n",
    "hist_plot, bin_edges = average_histogram(eq_speeds, number_of_runs, number_of_bins, 1)\n",
    "\n",
    "#plt.figure(figsize=(15, 7))\n",
    "plt.figure()\n",
    "#plt.grid()\n",
    "plt.bar(bin_edges[:-1], hist_plot, width=4/number_of_bins, align='edge', label='Numerical values')\n",
    "plt.plot(v, boltzmann_distribution_2D(v, kT_2d, 1), 'k--', label='MB distribution')\n",
    "plt.xlabel(r'$v$')\n",
    "plt.ylabel(r'$P(v)$')\n",
    "#plt.title(r'Speed distribution in equilibrium for $N=2000$ equal particles in 2D')\n",
    "plt.legend()\n",
    "plt.savefig(os.path.join(plots_folder, f'speed_distribution_2D_N_{N}_rad_{r}.pdf'))\n",
    "plt.show()"
   ]
  },
  {
   "cell_type": "code",
   "execution_count": 6,
   "metadata": {},
   "outputs": [
    {
     "name": "stdout",
     "output_type": "stream",
     "text": [
      "$\\langle v \\rangle$\n",
      "1.2533141373155314\n",
      "1.2543650327415545\n",
      "Rel error: 0.08 %\n",
      "$\\langle v^2 \\rangle$\n",
      "2.0000000000000995\n",
      "2.0000000000000995\n",
      "Rel error: 0.0 %\n",
      "$\\sigma$\n",
      "0.6551363775620499\n",
      "0.653122013589634\n",
      "Rel error: 0.31 %\n"
     ]
    }
   ],
   "source": [
    "print(r'$\\langle v \\rangle$')\n",
    "avg_v_2d = v_avg_2d(kT_2d)\n",
    "mean_v_2d = np.mean(eq_speeds)\n",
    "print(avg_v_2d)\n",
    "print(mean_v_2d)\n",
    "print(f'Rel error: {np.round(rel_error(avg_v_2d, mean_v_2d)*100, decimals=2)} %')\n",
    "print(r'$\\langle v^2 \\rangle$')\n",
    "avg_v_square_2d = v_square_avg_2d(kT_2d)\n",
    "mean_v_square_2d = np.mean(eq_speeds**2)\n",
    "print(avg_v_square_2d)\n",
    "print(mean_v_square_2d)\n",
    "print(f'Rel error: {np.round(rel_error(avg_v_square_2d, mean_v_square_2d)*100, decimals=2)} %')\n",
    "print(r'$\\sigma$')\n",
    "std_2d = sigma_2d(kT_2d)\n",
    "computed_sigma_2d = np.std(eq_speeds)\n",
    "print(std_2d)\n",
    "print(computed_sigma_2d)\n",
    "print(f'Rel error: {np.round(rel_error(std_2d, computed_sigma_2d)*100, decimals=2)} %')"
   ]
  },
  {
   "cell_type": "markdown",
   "metadata": {},
   "source": [
    "## 3D"
   ]
  },
  {
   "cell_type": "code",
   "execution_count": 7,
   "metadata": {},
   "outputs": [],
   "source": [
    "N = 1000\n",
    "r = 1/40\n",
    "number_of_runs = 20\n",
    "number_of_bins = 140\n",
    "stopping_criterion = 0.2*N"
   ]
  },
  {
   "cell_type": "code",
   "execution_count": 8,
   "metadata": {},
   "outputs": [
    {
     "data": {
      "image/png": "[encoded data removed]",
      "text/plain": [
       "<Figure size 720x288 with 1 Axes>"
      ]
     },
     "metadata": {
      "needs_background": "light"
     },
     "output_type": "display_data"
    }
   ],
   "source": [
    "eq_speeds = np.zeros((number_of_runs, N))\n",
    "for i in range(number_of_runs):\n",
    "    energy_matrix = np.load(file=os.path.join(results_folder, f'speed_distribution_3d/eq_state_speed_distribution_3d_N_{N}_{i}.npy'))\n",
    "    eq_speeds[i, :] = energy_matrix[:, 1]\n",
    "\n",
    "kT_3d = compute_kT_3d(eq_speeds, 1)\n",
    "\n",
    "v = np.linspace(0, 4, 1000)\n",
    "\n",
    "initial_velocities = np.load(file=os.path.join(init_folder, f'eq_velocity_N_{N}_rad_{r}_3d.npy'))\n",
    "initial_speeds = norm(initial_velocities, axis=1)\n",
    "\n",
    "# average over multiple runs to achieve smoother distributions\n",
    "hist_plot, bin_edges = average_histogram(eq_speeds, number_of_runs, number_of_bins, 1)\n",
    "\n",
    "#plt.figure(figsize=(15, 7))\n",
    "plt.figure()\n",
    "#plt.grid()\n",
    "plt.bar(bin_edges[:-1], hist_plot, width=4/number_of_bins, align='edge', label='Numerical values')\n",
    "#plt.hist(initial_speeds, density=True, width=4/number_of_bins, bins=number_of_bins, range=(0,4), color='green', label='Init')\n",
    "plt.plot(v, boltzmann_distribution_3D(v, kT_3d, 1), 'k--', label='MB distribution')\n",
    "plt.xlabel(r'$v$')\n",
    "plt.ylabel(r'$P(v)$')\n",
    "#plt.title(r'Speed distribution in equilibrium for $N=1000$ equal particles in 3D')\n",
    "plt.legend()\n",
    "plt.savefig(os.path.join(plots_folder, f'speed_distribution_3D_N_{N}_rad_{r}.pdf'))\n",
    "plt.show()"
   ]
  },
  {
   "cell_type": "code",
   "execution_count": 9,
   "metadata": {},
   "outputs": [
    {
     "name": "stdout",
     "output_type": "stream",
     "text": [
      "$\\langle v \\rangle$\n",
      "1.3029400317411255\n",
      "1.305208128760408\n",
      "Rel error: 0.17 %\n",
      "$\\langle v^2 \\rangle$\n",
      "2.0000000000000173\n",
      "2.0000000000000173\n",
      "Rel error: 0.0 %\n",
      "$\\sigma$\n",
      "0.5498611403676862\n",
      "0.5444554532905069\n",
      "Rel error: 0.98 %\n"
     ]
    }
   ],
   "source": [
    "print(r'$\\langle v \\rangle$')\n",
    "avg_v_3d = v_avg_3d(kT_3d)\n",
    "mean_v_3d = np.mean(eq_speeds)\n",
    "print(avg_v_3d)\n",
    "print(mean_v_3d)\n",
    "print(f'Rel error: {np.round(rel_error(avg_v_3d, mean_v_3d)*100, decimals=2)} %')\n",
    "print(r'$\\langle v^2 \\rangle$')\n",
    "avg_v_square_3d = v_square_avg_3d(kT_3d)\n",
    "mean_v_square_3d = np.mean(eq_speeds**2)\n",
    "print(avg_v_square_3d)\n",
    "print(mean_v_square_3d)\n",
    "print(f'Rel error: {np.round(rel_error(avg_v_square_3d, mean_v_square_3d)*100, decimals=2)} %')\n",
    "print(r'$\\sigma$')\n",
    "std_3d = sigma_3d(kT_3d)\n",
    "computed_sigma_3d = np.std(eq_speeds)\n",
    "print(std_3d)\n",
    "print(computed_sigma_3d)\n",
    "print(f'Rel error: {np.round(rel_error(std_3d, computed_sigma_3d)*100, decimals=2)} %')"
   ]
  },
  {
   "cell_type": "markdown",
   "metadata": {},
   "source": [
    "## Intial values for speed"
   ]
  },
  {
   "cell_type": "code",
   "execution_count": 10,
   "metadata": {},
   "outputs": [
    {
     "data": {
      "image/png": "[encoded data removed]",
      "text/plain": [
       "<Figure size 720x288 with 1 Axes>"
      ]
     },
     "metadata": {
      "needs_background": "light"
     },
     "output_type": "display_data"
    }
   ],
   "source": [
    "initial_velocities = np.load(file=os.path.join(init_folder, f\"eq_velocity_N_{N}_rad_{r}_3d.npy\"))\n",
    "initial_speeds = norm(initial_velocities, axis=1)\n",
    "\n",
    "plt.figure()\n",
    "plt.hist(initial_speeds, density=True, width=4/number_of_bins, bins=number_of_bins, range=(0,4), label='Numerical values')\n",
    "plt.plot(v, boltzmann_distribution_3D(v, kT_3d, 1), 'k--', label='MB distribution')\n",
    "plt.xlabel(r'$v$')\n",
    "plt.ylabel(r'$P(v)$')\n",
    "# plt.title(r'Initial speed distribution for $N=1000$ equal particles in 3D')\n",
    "plt.legend()\n",
    "plt.savefig(os.path.join(plots_folder, f'initial_speed_distribution_3D_N_{N}_rad_{r}.pdf'))\n",
    "plt.show()"
   ]
  },
  {
   "cell_type": "code",
   "execution_count": 11,
   "metadata": {},
   "outputs": [
    {
     "name": "stdout",
     "output_type": "stream",
     "text": [
      "$\\langle v \\rangle$\n",
      "1.3029400317411255\n",
      "1.3063746012227802\n",
      "$\\langle v^2 \\rangle$\n",
      "2.0000000000000173\n",
      "2.0000000000000746\n",
      "$\\sigma$\n",
      "0.5498611403676862\n",
      "0.54165062658516\n"
     ]
    }
   ],
   "source": [
    "print(r'$\\langle v \\rangle$')\n",
    "print(v_avg_3d(kT_3d))\n",
    "print(np.mean(initial_speeds))\n",
    "print(r'$\\langle v^2 \\rangle$')\n",
    "print(v_square_avg_3d(kT_3d))\n",
    "print(np.mean(initial_speeds**2))\n",
    "print(r'$\\sigma$')\n",
    "print(sigma_3d(kT_3d))\n",
    "print(np.std(initial_speeds))"
   ]
  },
  {
   "cell_type": "code",
   "execution_count": 12,
   "metadata": {},
   "outputs": [
    {
     "data": {
      "text/plain": [
       "0.06873614190687367"
      ]
     },
     "execution_count": 12,
     "metadata": {},
     "output_type": "execute_result"
    }
   ],
   "source": [
    "rel_error(0.451, 0.420)"
   ]
  },
  {
   "cell_type": "markdown",
   "metadata": {},
   "source": [
    "## How to create a referance frame where only the dyanmics determine the MSD?"
   ]
  },
  {
   "cell_type": "code",
   "execution_count": 13,
   "metadata": {},
   "outputs": [
    {
     "name": "stdout",
     "output_type": "stream",
     "text": [
      "(1000, 3)\n"
     ]
    }
   ],
   "source": [
    "print(initial_velocities.shape)"
   ]
  },
  {
   "cell_type": "code",
   "execution_count": 14,
   "metadata": {},
   "outputs": [],
   "source": [
    "E0_all = 0.5 * np.sum(initial_velocities*initial_velocities, axis=1)\n",
    "mean_E0 = np.mean(E0_all)"
   ]
  },
  {
   "cell_type": "code",
   "execution_count": 15,
   "metadata": {},
   "outputs": [],
   "source": [
    "mean_v_along_each_axis = np.mean(initial_velocities, axis=0)"
   ]
  },
  {
   "cell_type": "code",
   "execution_count": 16,
   "metadata": {},
   "outputs": [
    {
     "data": {
      "text/plain": [
       "array([0.00482408, 0.0181438 , 0.02314435])"
      ]
     },
     "execution_count": 16,
     "metadata": {},
     "output_type": "execute_result"
    }
   ],
   "source": [
    "mean_v_along_each_axis"
   ]
  },
  {
   "cell_type": "code",
   "execution_count": 17,
   "metadata": {},
   "outputs": [],
   "source": [
    "adjust_velocities = initial_velocities - mean_v_along_each_axis\n",
    "E0_all = 0.5 * np.sum(adjust_velocities*adjust_velocities, axis=1)\n",
    "mean_E0_adjusted = np.mean(E0_all)"
   ]
  },
  {
   "cell_type": "code",
   "execution_count": 18,
   "metadata": {},
   "outputs": [
    {
     "name": "stdout",
     "output_type": "stream",
     "text": [
      "1.0000000000000373 0.9995559349574223\n"
     ]
    }
   ],
   "source": [
    "print(mean_E0, mean_E0_adjusted)"
   ]
  },
  {
   "cell_type": "code",
   "execution_count": 19,
   "metadata": {},
   "outputs": [
    {
     "name": "stdout",
     "output_type": "stream",
     "text": [
      "0.0004440650426149606\n"
     ]
    }
   ],
   "source": [
    "print(mean_E0-mean_E0_adjusted)"
   ]
  },
  {
   "cell_type": "code",
   "execution_count": null,
   "metadata": {},
   "outputs": [],
   "source": []
  }
 ],
 "metadata": {
  "kernelspec": {
   "display_name": "Python 3",
   "language": "python",
   "name": "python3"
  },
  "language_info": {
   "codemirror_mode": {
    "name": "ipython",
    "version": 3
   },
   "file_extension": ".py",
   "mimetype": "text/x-python",
   "name": "python",
   "nbconvert_exporter": "python",
   "pygments_lexer": "ipython3",
   "version": "3.7.5"
  }
 },
 "nbformat": 4,
 "nbformat_minor": 2
}
